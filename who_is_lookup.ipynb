{
 "cells": [
  {
   "cell_type": "code",
   "execution_count": 1,
   "id": "e55112b9",
   "metadata": {},
   "outputs": [],
   "source": [
    "import socket"
   ]
  },
  {
   "cell_type": "code",
   "execution_count": 4,
   "id": "7d86de7d",
   "metadata": {},
   "outputs": [
    {
     "name": "stdout",
     "output_type": "stream",
     "text": [
      "% IANA WHOIS server\n",
      "% for more information on IANA, visit http://www.iana.org\n",
      "% This query returned 1 object\n",
      "\n",
      "refer:        whois.verisign-grs.com\n",
      "\n",
      "domain:       COM\n",
      "\n",
      "organisation: VeriSign Global Registry Services\n",
      "address:      12061 Bluemont Way\n",
      "address:      Reston VA 20190\n",
      "address:      United States of America (the)\n",
      "\n",
      "contact:      administrative\n",
      "name:         Registry Customer Service\n",
      "organisation: VeriSign Global Registry Services\n",
      "address:      12061 Bluemont Way\n",
      "address:      Reston VA 20190\n",
      "address:      United States of America (the)\n",
      "phone:        +1 703 925-6999\n",
      "fax-no:       +1 703 948 3978\n",
      "e-mail:       info@verisign-grs.com\n",
      "\n",
      "contact:      technical\n",
      "name:         Registry Customer Service\n",
      "organisation: VeriSign Global Registry Services\n",
      "address:      12061 Bluemont Way\n",
      "address:      Reston VA 20190\n",
      "address:      United States of America (the)\n",
      "phone:        +1 703 925-6999\n",
      "fax-no:       +1 703 948 3978\n",
      "e-mail:       info@verisign-grs.com\n",
      "\n",
      "nserver:      A.GTLD-SERVERS.NET 192.5.6.30 2001:503:a83e:0:0:0:2:30\n",
      "nserver:      B.GTLD-SERVERS.NET 192.33.14.30 2001:503:231d:0:0:0:2:30\n",
      "nserver:      C.GTLD-SERVERS.NET 192.26.92.30 2001:503:83eb:0:0:0:0:30\n",
      "nserver:      D.GTLD-SERVERS.NET 192.31.80.30 2001:500:856e:0:0:0:0:30\n",
      "nserver:      E.GTLD-SERVERS.NET 192.12.94.30 2001:502:1ca1:0:0:0:0:30\n",
      "nserver:      F.GTLD-SERVERS.NET 192.35.51.30 2001:503:d414:0:0:0:0:30\n",
      "nserver:      G.GTLD-SERVERS.NET 192.42.93.30 2001:50\n"
     ]
    }
   ],
   "source": [
    "def who_is_lookup(domain: str):\n",
    "    soc = socket.socket(socket.AF_INET, socket.SOCK_STREAM)\n",
    "    soc.connect((\"whois.iana.org\", 43))\n",
    "    soc.send(f\"{domain}\\r\\n\".encode())\n",
    "    response = soc.recv(4096).decode()\n",
    "    soc.close()\n",
    "    return response\n",
    "\n",
    "print(who_is_lookup(\"google.com\"))"
   ]
  },
  {
   "cell_type": "code",
   "execution_count": null,
   "id": "c82bf46d",
   "metadata": {},
   "outputs": [],
   "source": []
  }
 ],
 "metadata": {
  "kernelspec": {
   "display_name": "Python 3 (ipykernel)",
   "language": "python",
   "name": "python3"
  },
  "language_info": {
   "codemirror_mode": {
    "name": "ipython",
    "version": 3
   },
   "file_extension": ".py",
   "mimetype": "text/x-python",
   "name": "python",
   "nbconvert_exporter": "python",
   "pygments_lexer": "ipython3",
   "version": "3.10.4"
  }
 },
 "nbformat": 4,
 "nbformat_minor": 5
}
